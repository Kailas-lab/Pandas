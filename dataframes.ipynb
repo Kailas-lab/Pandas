{
 "cells": [
  {
   "cell_type": "code",
   "execution_count": 1,
   "metadata": {},
   "outputs": [
    {
     "name": "stdout",
     "output_type": "stream",
     "text": [
      "   calories  duration\n",
      "0       420        50\n",
      "1       380        40\n",
      "2       390        45\n",
      "calories    420\n",
      "duration     50\n",
      "Name: 0, dtype: int64\n",
      "   calories  duration\n",
      "0       420        50\n",
      "1       380        40\n"
     ]
    },
    {
     "name": "stderr",
     "output_type": "stream",
     "text": [
      "C:\\Users\\ADMIN\\AppData\\Local\\Temp\\ipykernel_9972\\3370301152.py:1: DeprecationWarning: \n",
      "Pyarrow will become a required dependency of pandas in the next major release of pandas (pandas 3.0),\n",
      "(to allow more performant data types, such as the Arrow string type, and better interoperability with other libraries)\n",
      "but was not found to be installed on your system.\n",
      "If this would cause problems for you,\n",
      "please provide us feedback at https://github.com/pandas-dev/pandas/issues/54466\n",
      "        \n",
      "  import pandas as pd # type: ignore\n"
     ]
    }
   ],
   "source": [
    "import pandas as pd # type: ignore\n",
    "\n",
    "data = {\n",
    "  \"calories\": [420, 380, 390],\n",
    "  \"duration\": [50, 40, 45]\n",
    "}\n",
    "\n",
    "#load data into a DataFrame object:\n",
    "df = pd.DataFrame(data)\n",
    "\n",
    "print(df)\n",
    "\n",
    "print(df.loc[0])\n",
    "\n",
    "print(df.loc[[0, 1]])\n",
    "\n"
   ]
  },
  {
   "cell_type": "code",
   "execution_count": 2,
   "metadata": {},
   "outputs": [
    {
     "name": "stdout",
     "output_type": "stream",
     "text": [
      "      calories  duration\n",
      "day1       420        50\n",
      "day2       380        40\n",
      "day3       390        45\n"
     ]
    }
   ],
   "source": [
    "import pandas as pd\n",
    "\n",
    "data = {\n",
    "  \"calories\": [420, 380, 390],\n",
    "  \"duration\": [50, 40, 45]\n",
    "}\n",
    "\n",
    "df = pd.DataFrame(data, index = [\"day1\", \"day2\", \"day3\"])\n",
    "\n",
    "print(df) "
   ]
  },
  {
   "cell_type": "code",
   "execution_count": 3,
   "metadata": {},
   "outputs": [
    {
     "name": "stdout",
     "output_type": "stream",
     "text": [
      "   StudentID      Name  Gender  AttendanceRate  StudyHoursPerWeek  \\\n",
      "0          1      John    Male              85                 15   \n",
      "1          2     Sarah  Female              90                 20   \n",
      "2          3      Alex    Male              78                 10   \n",
      "3          4   Michael    Male              92                 25   \n",
      "4          5      Emma  Female              88                 18   \n",
      "5          6    Olivia  Female              95                 30   \n",
      "6          7    Daniel    Male              70                  8   \n",
      "7          8    Sophia  Female              85                 17   \n",
      "8          9     James    Male              82                 12   \n",
      "9         10  Isabella  Female              91                 22   \n",
      "\n",
      "   PreviousGrade  ExtracurricularActivities ParentalSupport  FinalGrade  \n",
      "0             78                          1            High          80  \n",
      "1             85                          2          Medium          87  \n",
      "2             65                          0             Low          68  \n",
      "3             90                          3            High          92  \n",
      "4             82                          2          Medium          85  \n",
      "5             88                          1            High          90  \n",
      "6             60                          0             Low          62  \n",
      "7             77                          1          Medium          78  \n",
      "8             70                          2             Low          72  \n",
      "9             86                          3            High          88  \n"
     ]
    }
   ],
   "source": [
    "import pandas as pd\n",
    "\n",
    "df = pd.read_csv('student.csv')\n",
    "\n",
    "print(df) "
   ]
  }
 ],
 "metadata": {
  "kernelspec": {
   "display_name": "Python 3",
   "language": "python",
   "name": "python3"
  },
  "language_info": {
   "codemirror_mode": {
    "name": "ipython",
    "version": 3
   },
   "file_extension": ".py",
   "mimetype": "text/x-python",
   "name": "python",
   "nbconvert_exporter": "python",
   "pygments_lexer": "ipython3",
   "version": "3.12.1"
  }
 },
 "nbformat": 4,
 "nbformat_minor": 2
}
