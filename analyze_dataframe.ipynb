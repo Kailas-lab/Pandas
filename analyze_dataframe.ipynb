{
 "cells": [
  {
   "cell_type": "code",
   "execution_count": 6,
   "metadata": {},
   "outputs": [
    {
     "name": "stdout",
     "output_type": "stream",
     "text": [
      "   StudentID     Name  Gender  AttendanceRate  StudyHoursPerWeek  \\\n",
      "0          1     John    Male              85                 15   \n",
      "1          2    Sarah  Female              90                 20   \n",
      "2          3     Alex    Male              78                 10   \n",
      "3          4  Michael    Male              92                 25   \n",
      "4          5     Emma  Female              88                 18   \n",
      "\n",
      "   PreviousGrade  ExtracurricularActivities ParentalSupport  FinalGrade  \n",
      "0             78                          1            High          80  \n",
      "1             85                          2          Medium          87  \n",
      "2             65                          0             Low          68  \n",
      "3             90                          3            High          92  \n",
      "4             82                          2          Medium          85  \n"
     ]
    }
   ],
   "source": [
    "import pandas as pd # type: ignore\n",
    "\n",
    "d = pd.read_csv('student.csv')\n",
    "\n",
    "print(d.head(5))\n",
    "\n"
   ]
  },
  {
   "cell_type": "code",
   "execution_count": 7,
   "metadata": {},
   "outputs": [
    {
     "name": "stdout",
     "output_type": "stream",
     "text": [
      "   StudentID      Name  Gender  AttendanceRate  StudyHoursPerWeek  \\\n",
      "5          6    Olivia  Female              95                 30   \n",
      "6          7    Daniel    Male              70                  8   \n",
      "7          8    Sophia  Female              85                 17   \n",
      "8          9     James    Male              82                 12   \n",
      "9         10  Isabella  Female              91                 22   \n",
      "\n",
      "   PreviousGrade  ExtracurricularActivities ParentalSupport  FinalGrade  \n",
      "5             88                          1            High          90  \n",
      "6             60                          0             Low          62  \n",
      "7             77                          1          Medium          78  \n",
      "8             70                          2             Low          72  \n",
      "9             86                          3            High          88  \n"
     ]
    }
   ],
   "source": [
    "import pandas as pd # type: ignore\n",
    "\n",
    "d = pd.read_csv('student.csv')\n",
    "\n",
    "print(d.tail())"
   ]
  },
  {
   "cell_type": "code",
   "execution_count": 8,
   "metadata": {},
   "outputs": [
    {
     "name": "stdout",
     "output_type": "stream",
     "text": [
      "<class 'pandas.core.frame.DataFrame'>\n",
      "RangeIndex: 10 entries, 0 to 9\n",
      "Data columns (total 9 columns):\n",
      " #   Column                     Non-Null Count  Dtype \n",
      "---  ------                     --------------  ----- \n",
      " 0   StudentID                  10 non-null     int64 \n",
      " 1   Name                       10 non-null     object\n",
      " 2   Gender                     10 non-null     object\n",
      " 3   AttendanceRate             10 non-null     int64 \n",
      " 4   StudyHoursPerWeek          10 non-null     int64 \n",
      " 5   PreviousGrade              10 non-null     int64 \n",
      " 6   ExtracurricularActivities  10 non-null     int64 \n",
      " 7   ParentalSupport            10 non-null     object\n",
      " 8   FinalGrade                 10 non-null     int64 \n",
      "dtypes: int64(6), object(3)\n",
      "memory usage: 852.0+ bytes\n",
      "None\n"
     ]
    }
   ],
   "source": [
    "import pandas as pd # type: ignore\n",
    "\n",
    "d = pd.read_csv('student.csv')\n",
    "\n",
    "print(d.info())"
   ]
  }
 ],
 "metadata": {
  "kernelspec": {
   "display_name": "Python 3",
   "language": "python",
   "name": "python3"
  },
  "language_info": {
   "codemirror_mode": {
    "name": "ipython",
    "version": 3
   },
   "file_extension": ".py",
   "mimetype": "text/x-python",
   "name": "python",
   "nbconvert_exporter": "python",
   "pygments_lexer": "ipython3",
   "version": "3.12.1"
  }
 },
 "nbformat": 4,
 "nbformat_minor": 2
}
